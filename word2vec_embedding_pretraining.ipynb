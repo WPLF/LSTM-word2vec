{
 "cells": [
  {
   "cell_type": "code",
   "execution_count": 1,
   "id": "56958fcf-f363-421c-9200-8f73383f17f0",
   "metadata": {
    "ExecuteTime": {
     "end_time": "2022-04-10T08:22:28.207738Z",
     "start_time": "2022-04-10T08:22:22.746704Z"
    }
   },
   "outputs": [],
   "source": [
    "from torch import nn\n",
    "import jieba\n",
    "import numpy as np\n",
    "import re\n",
    "import collections\n",
    "import torch\n",
    "from torch.nn import functional as F\n",
    "import math\n",
    "import random\n",
    "import time\n",
    "from IPython import display\n",
    "from matplotlib import pyplot as plt\n",
    "%matplotlib inline"
   ]
  },
  {
   "cell_type": "markdown",
   "id": "a8176086-d128-4353-8c05-20dac9359ea7",
   "metadata": {
    "heading_collapsed": true,
    "jp-MarkdownHeadingCollapsed": true,
    "tags": []
   },
   "source": [
    "# 头文件module"
   ]
  },
  {
   "cell_type": "markdown",
   "id": "ff7281d9-fb9a-48c4-b7d8-a0d144e81fac",
   "metadata": {
    "jp-MarkdownHeadingCollapsed": true,
    "tags": []
   },
   "source": [
    "## 通用module"
   ]
  },
  {
   "cell_type": "code",
   "execution_count": 2,
   "id": "2da9810d-7c1c-4909-a07f-0ddec5a0c6e3",
   "metadata": {
    "ExecuteTime": {
     "end_time": "2022-04-02T07:52:37.741980Z",
     "start_time": "2022-04-02T07:52:37.713881Z"
    },
    "hidden": true
   },
   "outputs": [],
   "source": [
    "class Timer: #@save\n",
    "    \"\"\"Record multiple running times.\"\"\"\n",
    "    def __init__(self):\n",
    "        \"\"\"Defined in :numref:`subsec_linear_model`\"\"\"\n",
    "        self.times = []\n",
    "        self.start()\n",
    "\n",
    "    def start(self):\n",
    "        \"\"\"Start the timer.\"\"\"\n",
    "        self.tik = time.time()\n",
    "\n",
    "    def stop(self):\n",
    "        \"\"\"Stop the timer and record the time in a list.\"\"\"\n",
    "        self.times.append(time.time() - self.tik)\n",
    "        return self.times[-1]\n",
    "\n",
    "    def avg(self):\n",
    "        \"\"\"Return the average time.\"\"\"\n",
    "        return sum(self.times) / len(self.times)\n",
    "\n",
    "    def sum(self):\n",
    "        \"\"\"Return the sum of time.\"\"\"\n",
    "        return sum(self.times)\n",
    "\n",
    "    def cumsum(self):\n",
    "        \"\"\"Return the accumulated time.\"\"\"\n",
    "        return np.array(self.times).cumsum().tolist()\n",
    "    \n",
    "def set_axes(axes, xlabel, ylabel, xlim, ylim, xscale, yscale, legend):\n",
    "    \"\"\"Set the axes for matplotlib.\n",
    "\n",
    "    Defined in :numref:`sec_calculus`\"\"\"\n",
    "    axes.set_xlabel(xlabel)\n",
    "    axes.set_ylabel(ylabel)\n",
    "    axes.set_xscale(xscale)\n",
    "    axes.set_yscale(yscale)\n",
    "    axes.set_xlim(xlim)\n",
    "    axes.set_ylim(ylim)\n",
    "    if legend:\n",
    "        axes.legend(legend)\n",
    "    axes.grid()\n",
    "    \n",
    "    \n",
    "class Animator:\n",
    "    \"\"\"For plotting data in animation.\"\"\"\n",
    "    def __init__(self, xlabel=None, ylabel=None, legend=None, xlim=None,\n",
    "                 ylim=None, xscale='linear', yscale='linear',\n",
    "                 fmts=('-', 'm--', 'g-.', 'r:'), nrows=1, ncols=1,\n",
    "                 figsize=(3.5, 2.5)):\n",
    "        \"\"\"Defined in :numref:`sec_softmax_scratch`\"\"\"\n",
    "        # Incrementally plot multiple lines\n",
    "        if legend is None:\n",
    "            legend = []\n",
    "        self.fig, self.axes = plt.subplots(nrows, ncols, figsize=figsize)\n",
    "        if nrows * ncols == 1:\n",
    "            self.axes = [self.axes, ]\n",
    "        # Use a lambda function to capture arguments\n",
    "        self.config_axes = lambda: set_axes(\n",
    "            self.axes[0], xlabel, ylabel, xlim, ylim, xscale, yscale, legend)\n",
    "        self.X, self.Y, self.fmts = None, None, fmts\n",
    "\n",
    "    def add(self, x, y):\n",
    "        # Add multiple data points into the figure\n",
    "        if not hasattr(y, \"__len__\"):\n",
    "            y = [y]\n",
    "        n = len(y)\n",
    "        if not hasattr(x, \"__len__\"):\n",
    "            x = [x] * n\n",
    "        if not self.X:\n",
    "            self.X = [[] for _ in range(n)]\n",
    "        if not self.Y:\n",
    "            self.Y = [[] for _ in range(n)]\n",
    "        for i, (a, b) in enumerate(zip(x, y)):\n",
    "            if a is not None and b is not None:\n",
    "                self.X[i].append(a)\n",
    "                self.Y[i].append(b)\n",
    "        self.axes[0].cla()\n",
    "        for x, y, fmt in zip(self.X, self.Y, self.fmts):\n",
    "            self.axes[0].plot(x, y, fmt)\n",
    "        self.config_axes()\n",
    "        display.display(self.fig)\n",
    "        display.clear_output(wait=True)\n",
    "\n",
    "class Accumulator:\n",
    "    \"\"\"For accumulating sums over `n` variables.\"\"\"\n",
    "    def __init__(self, n):\n",
    "        \"\"\"Defined in :numref:`sec_softmax_scratch`\"\"\"\n",
    "        self.data = [0.0] * n\n",
    "\n",
    "    def add(self, *args):\n",
    "        self.data = [a + float(b) for a, b in zip(self.data, args)]\n",
    "\n",
    "    def reset(self):\n",
    "        self.data = [0.0] * len(self.data)\n",
    "\n",
    "    def __getitem__(self, idx):\n",
    "        return self.data[idx]"
   ]
  },
  {
   "cell_type": "markdown",
   "id": "1e2ef0e8-547c-4744-8697-9031f483979a",
   "metadata": {
    "heading_collapsed": true,
    "jp-MarkdownHeadingCollapsed": true,
    "tags": []
   },
   "source": [
    "## nlp module"
   ]
  },
  {
   "cell_type": "code",
   "execution_count": 3,
   "id": "552603de-8d9c-41b0-9f27-6e97eddf1fe3",
   "metadata": {
    "ExecuteTime": {
     "end_time": "2022-04-02T07:52:41.504208Z",
     "start_time": "2022-04-02T07:52:41.470306Z"
    },
    "code_folding": [
     19
    ],
    "hidden": true
   },
   "outputs": [],
   "source": [
    "def read_chinese_file(path):\n",
    "    \"\"\"Load the chinese file into a list of text lines.\"\"\"\n",
    "    with open(path, 'r', encoding='utf-8') as f:\n",
    "        lines = f.readlines()\n",
    "    return [re.sub('\\s', ' ', line).strip() for line in lines]\n",
    "\n",
    "\n",
    "def tokenize(lines):\n",
    "    \"\"\"根据jieba分词将lines分成tokens\"\"\"\n",
    "    return [jieba.lcut(line) for line in lines]\n",
    "\n",
    "\n",
    "def count_corpus(tokens):\n",
    "    \"\"\"count the frequency of token\"\"\"\n",
    "    if len(tokens) == 0 or isinstance(tokens[0], list):\n",
    "        tokens = [token for line in tokens for token in line]\n",
    "    return collections.Counter(tokens)\n",
    "\n",
    "\n",
    "class Vocab:\n",
    "    \"\"\"Vocabulary for text\"\"\"\n",
    "    def __init__(self, tokens=None, min_freq=0, reserved_tokens=None):\n",
    "        if tokens is None:\n",
    "            tokens = []\n",
    "        if reserved_tokens is None:\n",
    "            reserved_tokens = []\n",
    "        counter = count_corpus(tokens)\n",
    "        self._token_freqs = sorted(counter.items(),\n",
    "                                   key=lambda x: x[1],\n",
    "                                   reverse=True)\n",
    "        self.idx_to_token = ['<unk>'] + reserved_tokens\n",
    "        self.token_to_idx = {\n",
    "            token: idx\n",
    "            for idx, token in enumerate(self.idx_to_token)\n",
    "        }\n",
    "        for token, freq in self._token_freqs:\n",
    "            if freq < min_freq:\n",
    "                break\n",
    "            if token not in self.token_to_idx:\n",
    "                self.idx_to_token.append(token)\n",
    "                self.token_to_idx[token] = len(self.idx_to_token) - 1\n",
    "\n",
    "    def __len__(self):\n",
    "        return len(self.token_to_idx)\n",
    "\n",
    "    def __getitem__(self, tokens):\n",
    "        if not isinstance(tokens, (list, tuple)):\n",
    "            # get 方法，先找第一个字符，找不到再找第二个字符\n",
    "            return self.token_to_idx.get(tokens, self.unk)\n",
    "        return [self.__getitem__(token) for token in tokens]\n",
    "\n",
    "    def to_tokens(self, indices):\n",
    "        if not isinstance(indices, (list, tuple)):\n",
    "            return self.idx_to_token[indices]\n",
    "        return [self.idx_to_token[index] for index in indices]\n",
    "\n",
    "    @property\n",
    "    def unk(self):  # Index for the unknown token\n",
    "        return 0\n",
    "\n",
    "    @property\n",
    "    def token_freqs(self):  # Index for the unknown token\n",
    "        return self._token_freqs\n",
    "    \n",
    "def seq_data_iter_random(corpus, batch_size, num_steps):\n",
    "    \"\"\"Generate a minibatch of subsequences using random sampling.\n",
    "    Defined in :numref:`sec_language_model`\"\"\"\n",
    "    # Start with a random offset (inclusive of `num_steps - 1`) to partition a\n",
    "    # sequence\n",
    "    corpus = corpus[random.randint(0, num_steps - 1):]\n",
    "    # Subtract 1 since we need to account for labels\n",
    "    num_subseqs = (len(corpus) - 1) // num_steps\n",
    "    # The starting indices for subsequences of length `num_steps`\n",
    "    initial_indices = list(range(0, num_subseqs * num_steps, num_steps))\n",
    "    # In random sampling, the subsequences from two adjacent random\n",
    "    # minibatches during iteration are not necessarily adjacent on the\n",
    "    # original sequence\n",
    "    random.shuffle(initial_indices)\n",
    "\n",
    "    def data(pos):\n",
    "        # Return a sequence of length `num_steps` starting from `pos`\n",
    "        return corpus[pos:pos + num_steps]\n",
    "\n",
    "    num_batches = num_subseqs // batch_size\n",
    "    for i in range(0, batch_size * num_batches, batch_size):\n",
    "        # Here, `initial_indices` contains randomized starting indices for\n",
    "        # subsequences\n",
    "        initial_indices_per_batch = initial_indices[i:i + batch_size]\n",
    "        X = [data(j) for j in initial_indices_per_batch]\n",
    "        Y = [data(j + 1) for j in initial_indices_per_batch]\n",
    "        yield torch.tensor(X), torch.tensor(Y)\n",
    "\n",
    "\n",
    "def seq_data_iter_sequential(corpus, batch_size, num_steps):\n",
    "    \"\"\"Generate a minibatch of subsequences using sequtial partitioning \"\"\"\n",
    "    offset = random.randint(0, num_steps)\n",
    "    num_tokens = (\n",
    "        (len(corpus) - offset - 1) // batch_size) * batch_size  # 目前的总tokens个数\n",
    "    Xs = torch.tensor(\n",
    "        corpus[offset:offset +\n",
    "               num_tokens])  # offset + num_tokens == len corpus -1 倒数第二个元素\n",
    "    Ys = torch.tensor(corpus[offset + 1:offset + num_tokens +\n",
    "                             1])  # offset + num_tokens + 1 是corpus最后一个元素\n",
    "    Xs, Ys = Xs.reshape(batch_size, -1), Ys.reshape(batch_size, -1)  #\n",
    "    num_batches = Xs.shape[1] // num_steps  # 每个batch中的东西\n",
    "    for i in range(0, num_steps * num_batches, num_steps):\n",
    "        X = Xs[:, i:i + num_steps]\n",
    "        Y = Ys[:, i:i + num_steps]\n",
    "        yield X, Y\n",
    "\n",
    "\n",
    "class SeqDataLoader:\n",
    "    \"\"\"An iterator to load sequence data.\"\"\"\n",
    "    def __init__(self, batch_size, num_steps, use_random_iter, max_tokens):\n",
    "        \"\"\"Defined in :numref:`sec_language_model`\"\"\"\n",
    "        if use_random_iter:\n",
    "            self.data_iter_fn = seq_data_iter_random\n",
    "        else:\n",
    "            self.data_iter_fn = seq_data_iter_sequential\n",
    "        self.corpus, self.vocab = load_corpus_stone(max_tokens)\n",
    "        self.batch_size, self.num_steps = batch_size, num_steps\n",
    "\n",
    "    def __iter__(self):\n",
    "        return self.data_iter_fn(self.corpus, self.batch_size, self.num_steps)\n",
    "    \n",
    "def load_corpus_stone(max_tokens=-1):\n",
    "    \"\"\"Return token indices and the vocabulary of the stone\"\"\"\n",
    "    lines = read_chinese_file(\"红楼梦.txt\")\n",
    "    tokens = tokenize(lines)\n",
    "    vocab = Vocab(tokens, min_freq=0)\n",
    "    # since each text line in the stone dataset is not necessarily\n",
    "    # a sentence or a paragraph, flatten all the text lines into a single list\n",
    "    corpus = [vocab[token] for line in tokens for token in line]\n",
    "    if max_tokens > 0:\n",
    "        corpus = corpus[:max_tokens]\n",
    "    return corpus, vocab\n",
    "\n",
    "\n",
    "def load_data_stone_language_model(batch_size,\n",
    "                    num_steps,\n",
    "                    use_random_iter=False,\n",
    "                    max_tokens=10000):\n",
    "    \"\"\"Return the iterator and the vocabulary of the stone dataset.\"\"\"\n",
    "    data_iter = SeqDataLoader(batch_size, num_steps, use_random_iter,\n",
    "                              max_tokens)\n",
    "    return data_iter, data_iter.vocab"
   ]
  },
  {
   "cell_type": "markdown",
   "id": "5dcfcc38-ff1e-4643-8cb1-4f065c14d165",
   "metadata": {
    "jp-MarkdownHeadingCollapsed": true,
    "tags": []
   },
   "source": [
    "## RNN model"
   ]
  },
  {
   "cell_type": "code",
   "execution_count": 32,
   "id": "41f62b48-4a28-4725-aaf8-5407e8a0042c",
   "metadata": {
    "ExecuteTime": {
     "end_time": "2022-04-02T07:52:46.204930Z",
     "start_time": "2022-04-02T07:52:46.177613Z"
    }
   },
   "outputs": [],
   "source": [
    "class RNNModel(nn.Module):\n",
    "    \n",
    "    def __init__(self, rnn_layer, vocab_size, **kwargs):\n",
    "        super(RNNModel, self).__init__(**kwargs)\n",
    "        self.rnn = rnn_layer\n",
    "        self.vocab_size = vocab_size\n",
    "        self.num_hiddens = self.rnn.hidden_size # 隐藏层参数在rnn层中\n",
    "        \n",
    "        if not self.rnn.bidirectional:\n",
    "            self.num_directions = 1\n",
    "            self.linear = nn.Linear(self.num_hiddens, self.vocab_size)\n",
    "        else:\n",
    "            self.num_directions = 2\n",
    "            self.linear = nn.Linear(self.num_hiddens * 2, self.vocab_size)\n",
    "    # inputs 是 batch_size, time, 转成 time, batch_size, 再用one_hot 拉成 time, batch_size, vocab_size\n",
    "    def forward(self, inputs, states):\n",
    "        X = F.one_hot(inputs.T.long(), self.vocab_size)\n",
    "        X = X.to(torch.float32)\n",
    "        Y, states = self.rnn(X, states)\n",
    "        # output 最后拉成 time*batch_size * vocab_size的向量，\n",
    "        output = self.linear(Y.reshape((-1, Y.shape[-1])))\n",
    "        return output, states\n",
    "    \n",
    "    def begin_state(self, device, batch_size=1):\n",
    "        if not isinstance(self.rnn, nn.LSTM):\n",
    "            # scratch实现时， 隐藏层为1层， 无第一维，  就是batch_size, num_hiddens维\n",
    "            return torch.zeros( (self.num_directions * self.rnn.num_layers, batch_size,\n",
    "                              self.num_hiddens), device=device)\n",
    "        else: \n",
    "            # lstm中有两个隐藏变量， C与H， GRU与RNN都只有一个隐藏单元。 只需要一个隐藏权重\n",
    "            return (torch.zeros( (self.num_directions * self.rnn.num_layers, batch_size,\n",
    "                              self.num_hiddens), device=device),\n",
    "                    torch.zeros( (self.num_directions * self.rnn.num_layers, batch_size,\n",
    "                              self.num_hiddens), device=device))\n",
    "        \n",
    "def grad_clipping(net, theta):\n",
    "    if isinstance(net, nn.Module):\n",
    "        params = [p for p in net.parameters() if p.requires_grad]\n",
    "    else:\n",
    "        params = net.params\n",
    "    norm = torch.sqrt(sum(torch.sum((p.grad ** 2)) for p in params))\n",
    "    if norm > theta:\n",
    "        for param in params:\n",
    "            param.grad[:] *= theta / norm\n",
    "\n",
    "            \n",
    "def try_gpu(i=0):\n",
    "    if torch.cuda.device_count() >= i + 1:\n",
    "        return torch.device(f'cuda:{i}')\n",
    "    return torch.device('cpu')"
   ]
  },
  {
   "cell_type": "markdown",
   "id": "18c0caf5-4f95-4dc1-9bc5-1d393d9c50a6",
   "metadata": {
    "hidden": true,
    "tags": []
   },
   "source": [
    "### max_tokens = 10000"
   ]
  },
  {
   "cell_type": "code",
   "execution_count": null,
   "id": "934cf8bd-4604-4b2c-89e0-35cb00efabff",
   "metadata": {
    "hidden": true,
    "scrolled": true
   },
   "outputs": [],
   "source": [
    "batch_size, num_steps = 32, 35\n",
    "train_iter, vocab = load_data_stone(batch_size, num_steps, max_tokens=5000)\n",
    "\n",
    "vocab_size, num_hiddens, device = len(vocab), 256, try_gpu()\n",
    "num_epochs, lr = 500, 1\n",
    "\n",
    "lstm_layer = nn.LSTM(len(vocab), num_hiddens)\n",
    "model = RNNModel(lstm_layer, len(vocab))\n",
    "model = model.to(device)"
   ]
  },
  {
   "cell_type": "code",
   "execution_count": null,
   "id": "8d68da86",
   "metadata": {
    "hidden": true
   },
   "outputs": [],
   "source": [
    "predict(\"黛玉\", 100, model, vocab, device)"
   ]
  },
  {
   "cell_type": "code",
   "execution_count": null,
   "id": "46fc78be-60d9-4007-9e1c-ab82bec7cd97",
   "metadata": {
    "hidden": true
   },
   "outputs": [],
   "source": [
    "train(model, train_iter, vocab, lr, 10, device) "
   ]
  },
  {
   "cell_type": "code",
   "execution_count": null,
   "id": "a66d0e1e-2f12-417b-8ce8-884ac6ad6eb5",
   "metadata": {
    "hidden": true
   },
   "outputs": [],
   "source": [
    "train(model, train_iter, vocab, lr, num_epochs, device) "
   ]
  },
  {
   "cell_type": "code",
   "execution_count": null,
   "id": "0664447c-5a91-4872-a92a-4b8fdd70d055",
   "metadata": {
    "hidden": true
   },
   "outputs": [],
   "source": [
    "num_samples = 400\n",
    "article = str()\n",
    "state = (torch.zeros(size=(1,1, num_hiddens), device=device), torch.zeros(size=(1,1, num_hiddens), device=device))\n",
    "for i in state:\n",
    "    i = i.to(device)\n",
    "prob = torch.ones([vocab_size])\n",
    "_input = torch.multinomial(prob, num_samples=1).unsqueeze(1)"
   ]
  },
  {
   "cell_type": "markdown",
   "id": "705a4071-2551-4a0e-b2a9-ad4e809a8c2d",
   "metadata": {
    "hidden": true,
    "tags": []
   },
   "source": [
    "### max_tokens = 20000"
   ]
  },
  {
   "cell_type": "code",
   "execution_count": null,
   "id": "ee93b708-a75d-48e3-8458-988e0e21a414",
   "metadata": {
    "hidden": true,
    "scrolled": true
   },
   "outputs": [],
   "source": [
    "batch_size, num_steps = 32, 35\n",
    "train_iter, vocab = load_data_stone(batch_size, num_steps, max_tokens=20000)\n",
    "\n",
    "vocab_size, num_hiddens, device = len(vocab), 256, try_gpu()\n",
    "num_epochs, lr = 1500, 1\n",
    "\n",
    "lstm_layer = nn.LSTM(len(vocab), num_hiddens)\n",
    "model = RNNModel(lstm_layer, len(vocab))\n",
    "model = model.to(device)\n",
    "train(model, train_iter, vocab, lr, num_epochs, device) "
   ]
  },
  {
   "cell_type": "code",
   "execution_count": null,
   "id": "fd7b1a95-3b6e-4ba7-bc46-e642b4d20eaf",
   "metadata": {
    "hidden": true
   },
   "outputs": [],
   "source": [
    "num_epochs, lr = 500, 1\n",
    "train(model, train_iter, vocab, lr, num_epochs,  device) "
   ]
  },
  {
   "cell_type": "code",
   "execution_count": null,
   "id": "5c42a320-9f0c-4273-b912-aa40b8ba2b53",
   "metadata": {
    "hidden": true
   },
   "outputs": [],
   "source": [
    "num_samples = 400\n",
    "article = str()\n",
    "state = (torch.zeros(size=(1,1, num_hiddens), device=device), torch.zeros(size=(1,1, num_hiddens), device=device))\n",
    "for i in state:\n",
    "    i = i.to(device)\n",
    "prob = torch.ones([vocab_size])\n",
    "_input = torch.multinomial(prob, num_samples=1).unsqueeze(1)\n",
    "for i in range(num_samples):\n",
    "    _input = _input.to(device)\n",
    "    #print(_input)\n",
    "    output, state = model(_input, state)\n",
    "    #print(_input)\n",
    "    # prob是对上一步得到的output进行指数化，加强高概率结果的权重；\n",
    "    prob = output.exp()\n",
    "    # word_id，通过torch_multinomial，以prob为权重，对结果进行加权抽样，样本数为1(即num_samples)\n",
    "    word_id = torch.multinomial(prob, num_samples=1).item()\n",
    "    # 为下一次运算作准备，通过fill_方法，把最新的结果(word_id)作为_input的值\n",
    "    _input.fill_(word_id)\n",
    "    _input = _input.to(device)\n",
    "    # print(_input)\n",
    "    # 从字典映射表Dictionary里，找到当前索引(即word_id)对应的单词；\n",
    "    word = vocab.idx_to_token[word_id]\n",
    "    # 如果获得到的单词是特殊符号(如<eos>，句尾符号EndOfSentence)，替换成换行符\n",
    "    word = '\\n' if word == '<eos>' else word\n",
    "    article += word\n",
    "print(article)"
   ]
  },
  {
   "cell_type": "markdown",
   "id": "c2507b14-316c-439a-b5c3-9b6e11a7ac28",
   "metadata": {
    "jp-MarkdownHeadingCollapsed": true,
    "tags": []
   },
   "source": [
    "#  Word2vec预训练embedding"
   ]
  },
  {
   "cell_type": "markdown",
   "id": "062f3ddd",
   "metadata": {
    "tags": []
   },
   "source": [
    "## 下采样+设置vocab+根据下采样概率更新corpus"
   ]
  },
  {
   "cell_type": "code",
   "execution_count": 4,
   "id": "c425e562",
   "metadata": {},
   "outputs": [],
   "source": [
    "def subsample(sentences, vocab):\n",
    "    sentences = [[token for token in line if vocab[token] != vocab.unk] \n",
    "                 for line in sentences]\n",
    "    counter = count_corpus(sentences)\n",
    "    num_tokens = sum(counter.values()) \n",
    "    # 字典想找到所有的值，可以使用values\n",
    "    \n",
    "    def keep(token):\n",
    "        return (random.uniform(0, 1) <\n",
    "               math.sqrt(1e-4 / counter[token] * num_tokens))\n",
    "    \n",
    "    return ([[token for token in line if keep(token)] for line in sentences],\n",
    "           counter)"
   ]
  },
  {
   "cell_type": "code",
   "execution_count": 5,
   "id": "e1bfb7d6",
   "metadata": {},
   "outputs": [
    {
     "name": "stderr",
     "output_type": "stream",
     "text": [
      "Building prefix dict from the default dictionary ...\n",
      "Loading model from cache /tmp/jieba.cache\n",
      "Loading model cost 0.839 seconds.\n",
      "Prefix dict has been built successfully.\n"
     ]
    }
   ],
   "source": [
    "lines = read_chinese_file(\"红楼梦.txt\")\n",
    "tokens = tokenize(lines)\n",
    "vocab = Vocab(tokens, min_freq=5)\n",
    "\n",
    "subsampled, counter = subsample(tokens, vocab)"
   ]
  },
  {
   "cell_type": "code",
   "execution_count": 6,
   "id": "15fd6626",
   "metadata": {
    "scrolled": true
   },
   "outputs": [],
   "source": [
    "def compare_counts(token):\n",
    "    return (f'\"{token}\"的数量：'\n",
    "            f'之前={sum([l.count(token) for l in tokens])}, '\n",
    "            f'之后={sum([l.count(token) for l in subsampled])}')"
   ]
  },
  {
   "cell_type": "code",
   "execution_count": 7,
   "id": "4b48bcf0",
   "metadata": {},
   "outputs": [],
   "source": [
    "compare_counts('：')\n",
    "sum([l.count(\"宝钗\") for l in tokens]) \n",
    "corpus = [vocab[line] for line in subsampled]"
   ]
  },
  {
   "cell_type": "code",
   "execution_count": 8,
   "id": "9584a14c",
   "metadata": {},
   "outputs": [],
   "source": [
    "def get_centers_and_contexts(corpus, max_window_size):\n",
    "    # 返回skip gram的中心词与上下文\n",
    "    centers, contexts = [], []\n",
    "    for line in corpus:\n",
    "        if len(line) < 2:\n",
    "            continue\n",
    "        centers += line \n",
    "        # centers 为 许多center组成的一维列表\n",
    "        for i in range(len(line)):\n",
    "            # 为什么window_size取随机？\n",
    "            window_size = random.randint(1, max_window_size)\n",
    "            indices = list(range(max(0, i-window_size)\n",
    "                                    ,min(len(line), i + 1 + window_size)))\n",
    "            # 去除中心词\n",
    "            indices.remove(i)\n",
    "            # contexts添加的是一个列表，列表里存着所有上下文的下标\n",
    "            contexts.append([line[idx] for idx in indices])\n",
    "    return centers, contexts"
   ]
  },
  {
   "cell_type": "code",
   "execution_count": 9,
   "id": "a53eb75f",
   "metadata": {},
   "outputs": [
    {
     "name": "stdout",
     "output_type": "stream",
     "text": [
      "数据集 [[0, 1, 2, 3, 4, 5, 6], [7, 8, 9]]\n",
      "中心词 0 的上下文词是 [1, 2]\n",
      "中心词 1 的上下文词是 [0, 2, 3]\n",
      "中心词 2 的上下文词是 [0, 1, 3, 4]\n",
      "中心词 3 的上下文词是 [2, 4]\n",
      "中心词 4 的上下文词是 [2, 3, 5, 6]\n",
      "中心词 5 的上下文词是 [3, 4, 6]\n",
      "中心词 6 的上下文词是 [4, 5]\n",
      "中心词 7 的上下文词是 [8]\n",
      "中心词 8 的上下文词是 [7, 9]\n",
      "中心词 9 的上下文词是 [7, 8]\n"
     ]
    }
   ],
   "source": [
    "tiny_dataset = [list(range(7)), list(range(7, 10))]\n",
    "print('数据集', tiny_dataset)\n",
    "for center, context in zip(*get_centers_and_contexts(tiny_dataset, 2)):\n",
    "    print('中心词', center, '的上下文词是', context)"
   ]
  },
  {
   "cell_type": "code",
   "execution_count": 10,
   "id": "8977589b",
   "metadata": {},
   "outputs": [],
   "source": [
    "temp = []\n",
    "temp += [torch.arange(10)]\n",
    "temp += [torch.arange(20)]\n",
    "temp += [1,2,3]"
   ]
  },
  {
   "cell_type": "code",
   "execution_count": 11,
   "id": "26cb8e89",
   "metadata": {
    "scrolled": true
   },
   "outputs": [
    {
     "data": {
      "text/plain": [
       "([tensor([0, 1, 2, 3, 4, 5, 6, 7, 8, 9]),\n",
       "  tensor([ 0,  1,  2,  3,  4,  5,  6,  7,  8,  9, 10, 11, 12, 13, 14, 15, 16, 17,\n",
       "          18, 19]),\n",
       "  1,\n",
       "  2,\n",
       "  3],\n",
       " tensor([ 0,  1,  2,  3,  4,  5,  6,  7,  8,  9, 10, 11, 12, 13, 14, 15, 16, 17,\n",
       "         18, 19]),\n",
       " [tensor([0, 1, 2, 3, 4])])"
      ]
     },
     "execution_count": 11,
     "metadata": {},
     "output_type": "execute_result"
    }
   ],
   "source": [
    "temp,torch.arange(20), [torch.arange(5)]"
   ]
  },
  {
   "cell_type": "code",
   "execution_count": 39,
   "id": "cb7f48d6",
   "metadata": {},
   "outputs": [
    {
     "data": {
      "text/plain": [
       "'# “中心词-上下文词对”的数量: 1096651'"
      ]
     },
     "execution_count": 39,
     "metadata": {},
     "output_type": "execute_result"
    }
   ],
   "source": [
    "all_centers, all_contexts = get_centers_and_contexts(corpus, 5)\n",
    "f'# “中心词-上下文词对”的数量: {sum([len(contexts) for contexts in all_contexts])}'"
   ]
  },
  {
   "cell_type": "markdown",
   "id": "b08e9e90",
   "metadata": {
    "tags": []
   },
   "source": [
    "## 设置负采样"
   ]
  },
  {
   "attachments": {
    "ee02560e-9819-46d4-8491-b1357cfcc2d7.png": {
     "image/png": "[encoded data removed]"
    }
   },
   "cell_type": "markdown",
   "id": "d9c1fb18-13e8-4a93-befe-e3956d29fbaf",
   "metadata": {},
   "source": [
    "负采样的原因： \n",
    "1. 如果是随机梯度下降，在超大的词表中，只有一个正例，其余均等于零，softmax分母求和部分没有意义且计算效率不高，\n",
    "2. 采用k个负例， 转化成k+1个二分类问题，计算效率高，且计算结果也是有意义的，证明在2014年的论文\n",
    "![image.png](attachment:ee02560e-9819-46d4-8491-b1357cfcc2d7.png)\n",
    "\n",
    "3. sigmoid 方便求导"
   ]
  },
  {
   "cell_type": "code",
   "execution_count": 50,
   "id": "f825044a",
   "metadata": {},
   "outputs": [],
   "source": [
    "class RandomGenerator:\n",
    "    \"\"\"根据n个采样权重在{1，...，n}中随机选取\"\"\"\n",
    "    def __init__(self, sampling_weights):\n",
    "        self.population = list(range(1, len(sampling_weights)+1))\n",
    "        self.sampling_weights = sampling_weights\n",
    "        self.candidates = []\n",
    "        self.i = 0\n",
    "    \n",
    "    def draw(self):\n",
    "        # 每次选取10000个点， 到10000之后再重新选取\n",
    "        if self.i == len(self.candidates):\n",
    "            self.candidates = random.choices(\n",
    "                self.population, self.sampling_weights, k=10000)\n",
    "            self.i = 0\n",
    "        self.i += 1\n",
    "        return self.candidates[self.i-1]\n",
    "    \n",
    "def get_negatives(all_contexts, vocab, counter, K):\n",
    "    \"\"\"返回负采样中的噪声词\"\"\"\n",
    "    # 每个词的采样频率为 counter中的概率的0.75次方\n",
    "    sampling_weights = [counter[vocab.to_tokens(i)]**0.75\n",
    "                       for i in range(1, len(vocab))]\n",
    "    all_negatives, generator = [], RandomGenerator(sampling_weights)\n",
    "    \n",
    "    for contexts in all_contexts:\n",
    "        negatives = []\n",
    "        while len(negatives) < len(contexts) * K:\n",
    "            neg = generator.draw()\n",
    "            if neg not in contexts:\n",
    "                negatives.append(neg)\n",
    "        all_negatives.append(negatives)\n",
    "    return all_negatives"
   ]
  },
  {
   "cell_type": "code",
   "execution_count": 51,
   "id": "25d39a36",
   "metadata": {},
   "outputs": [
    {
     "data": {
      "text/plain": [
       "[2, 1, 2, 1, 2, 2, 2, 2, 1, 1]"
      ]
     },
     "execution_count": 51,
     "metadata": {},
     "output_type": "execute_result"
    }
   ],
   "source": [
    "generator = RandomGenerator([2, 3, 0])\n",
    "[generator.draw() for _ in range(10)]\n",
    "# 传入权重， 在该列表中，根据权重返回下标"
   ]
  },
  {
   "cell_type": "code",
   "execution_count": 52,
   "id": "494ec94a",
   "metadata": {},
   "outputs": [],
   "source": [
    "all_negatives = get_negatives(all_contexts, vocab, counter, 5)"
   ]
  },
  {
   "cell_type": "markdown",
   "id": "12432a42",
   "metadata": {
    "jp-MarkdownHeadingCollapsed": true,
    "tags": []
   },
   "source": [
    "## 读取word2vec小批量样本\n",
    "\n",
    "原始数据经过下采样预处理, 返回的样本为 center + negative样本, + mask + label 一共四元tuple\n",
    "\n",
    "因为序列长度不同，这里选取最大长度的中心词加negative做长度，短的用掩码操作\n",
    "\n",
    "方法返回tuple(conters, contexts_negatives, masks, labels)"
   ]
  },
  {
   "cell_type": "code",
   "execution_count": 54,
   "id": "ed893aa4",
   "metadata": {},
   "outputs": [],
   "source": [
    "def batchify(data):\n",
    "    \"\"\"返回带有负采样的skipgram的小批量样本\"\"\"\n",
    "    max_len = max(len(c) + len(n) for _, c , n in data) \n",
    "    centers, contexts_negatives, masks, labels = [], [], [], []\n",
    "    for center, context, negative in data:\n",
    "        cur_len = len(context) + len(negative)\n",
    "        # center为int， 所以在+=时需要变列表 而且最后需要reshape\n",
    "        centers += [center]\n",
    "        contexts_negatives += \\\n",
    "            [context + negative + [0] * (max_len - cur_len)]\n",
    "        masks += [[1] * cur_len + [0] * (max_len - cur_len)]\n",
    "        # labels 就是判断模型是否判断正确的模型，1即为context，0则反之\n",
    "        labels += [[1] * len(context) + [0] * (max_len-len(context))]\n",
    "    # 忘了reshape centers 出错一次\n",
    "    return (torch.tensor(centers).reshape((-1,1)), torch.tensor(\n",
    "    contexts_negatives), torch.tensor(masks), torch.tensor(labels))"
   ]
  },
  {
   "cell_type": "code",
   "execution_count": 55,
   "id": "45f43806",
   "metadata": {},
   "outputs": [
    {
     "name": "stdout",
     "output_type": "stream",
     "text": [
      "centers = tensor([[1],\n",
      "        [2]])\n",
      "contexts_negatives = tensor([[2, 2, 3, 3, 3, 3],\n",
      "        [2, 2, 2, 3, 3, 0]])\n",
      "masks = tensor([[1, 1, 1, 1, 1, 1],\n",
      "        [1, 1, 1, 1, 1, 0]])\n",
      "labels = tensor([[1, 1, 0, 0, 0, 0],\n",
      "        [1, 1, 1, 0, 0, 0]])\n"
     ]
    }
   ],
   "source": [
    "x_1 = (1, [2, 2], [3, 3, 3, 3])\n",
    "x_2 = (2, [2, 2, 2], [3, 3])\n",
    "batch = batchify((x_1, x_2))\n",
    "\n",
    "names = ['centers', 'contexts_negatives', 'masks', 'labels']\n",
    "for name, data in zip(names, batch):\n",
    "    print(name, '=', data)"
   ]
  },
  {
   "cell_type": "markdown",
   "id": "f161f3f0-3fa9-4cb1-a885-2cd23f20cd38",
   "metadata": {
    "jp-MarkdownHeadingCollapsed": true,
    "tags": []
   },
   "source": [
    "## load_data与skip-gram函数定义"
   ]
  },
  {
   "cell_type": "code",
   "execution_count": 56,
   "id": "82cfea67",
   "metadata": {},
   "outputs": [],
   "source": [
    "def load_data_stone_embedding(batch_size, max_window_size, num_noise_words):\n",
    "    \"\"\"将红楼梦加载到内存中\"\"\"\n",
    "    num_workers = 0\n",
    "    lines = read_chinese_file(\"红楼梦.txt\")\n",
    "    sentences = tokenize(lines)\n",
    "    vocab = Vocab(sentences, min_freq=10)\n",
    "    subsampled, counter = subsample(sentences, vocab)\n",
    "    corpus = [vocab[line] for line in subsampled]\n",
    "    all_centers, all_contexts = get_centers_and_contexts(corpus, max_window_size)\n",
    "    all_negatives =  get_negatives(all_contexts, vocab, counter, num_noise_words)\n",
    "    \n",
    "    class STONEDataset(torch.utils.data.Dataset):\n",
    "        def __init__(self, centers, contexts, negatives):\n",
    "            assert len(centers) == len(contexts) == len(negatives)\n",
    "            self.centers = centers\n",
    "            self.contexts = contexts\n",
    "            self.negatives = negatives\n",
    "        \n",
    "        def __getitem__(self, index):\n",
    "            return (self.centers[index], self.contexts[index],\n",
    "                   self.negatives[index])\n",
    "        \n",
    "        def __len__(self):\n",
    "            return len(self.centers)\n",
    "        \n",
    "    dataset = STONEDataset(all_centers, all_contexts, all_negatives)\n",
    "    # 最后的batchify 返回的是四个元素组成的tuple(center, context_neg, mask, label)\n",
    "    data_iter = torch.utils.data.DataLoader(\n",
    "        dataset, batch_size, shuffle=True,\n",
    "        collate_fn=batchify, num_workers=num_workers)\n",
    "    return data_iter, vocab"
   ]
  },
  {
   "cell_type": "code",
   "execution_count": 57,
   "id": "b8c24e8d",
   "metadata": {},
   "outputs": [],
   "source": [
    "data_iter, vocab = load_data_stone_embedding(512, 5, 5)"
   ]
  },
  {
   "cell_type": "code",
   "execution_count": 58,
   "id": "34214cd4",
   "metadata": {},
   "outputs": [
    {
     "name": "stdout",
     "output_type": "stream",
     "text": [
      "centers shape: torch.Size([512, 1])\n",
      "contexts_negatives shape: torch.Size([512, 60])\n",
      "masks shape: torch.Size([512, 60])\n",
      "labels shape: torch.Size([512, 60])\n"
     ]
    }
   ],
   "source": [
    "for batch in data_iter:\n",
    "    for name, data in zip(names, batch):\n",
    "        print(name, 'shape:', data.shape)\n",
    "    break"
   ]
  },
  {
   "cell_type": "code",
   "execution_count": 60,
   "id": "72fa444c",
   "metadata": {},
   "outputs": [],
   "source": [
    "batch_size, max_window_size, num_noise_words = 512, 5, 5\n",
    "data_iter, vocab = load_data_stone_embedding(batch_size, max_window_size, num_noise_words)\n",
    "embed = nn.Embedding(num_embeddings=20, embedding_dim=4)"
   ]
  },
  {
   "cell_type": "code",
   "execution_count": 61,
   "id": "735f470c",
   "metadata": {},
   "outputs": [
    {
     "name": "stdout",
     "output_type": "stream",
     "text": [
      "Parameter embedding_weight (torch.Size([20, 4]), dtype=torch.float32)\n"
     ]
    }
   ],
   "source": [
    "print(f'Parameter embedding_weight ({embed.weight.shape}, '\n",
    "      f'dtype={embed.weight.dtype})')"
   ]
  },
  {
   "cell_type": "code",
   "execution_count": 62,
   "id": "352f7189",
   "metadata": {},
   "outputs": [],
   "source": [
    "def skip_gram(center, contexts_and_negatives, embed_v, embed_u):\n",
    "    # 利用中心词与context的点积代表相似度\n",
    "    v = embed_v(center)\n",
    "    u = embed_u(contexts_and_negatives) \n",
    "    return torch.bmm(v, u.permute(0, 2, 1))"
   ]
  },
  {
   "cell_type": "markdown",
   "id": "6c075558",
   "metadata": {
    "jp-MarkdownHeadingCollapsed": true,
    "tags": []
   },
   "source": [
    "##   sigmoid 求logits +  二元交叉熵求损失"
   ]
  },
  {
   "cell_type": "code",
   "execution_count": 63,
   "id": "52005d94",
   "metadata": {},
   "outputs": [
    {
     "data": {
      "text/plain": [
       "(tensor([[ 6.0000, 11.5000, 17.0000],\n",
       "         [ 2.2000,  2.0000,  6.5000]]),\n",
       " tensor([[ 2.2000,  2.0000,  6.5000],\n",
       "         [ 6.0000, 11.5000, 17.0000]]),\n",
       " torch.Size([2, 2, 3]),\n",
       " tensor([[ 2.0000,  5.1333],\n",
       "         [21.0000,  2.0000]]))"
      ]
     },
     "execution_count": 63,
     "metadata": {},
     "output_type": "execute_result"
    }
   ],
   "source": [
    "a = torch.tensor( [[ [1.0, 2.0, 3.0], [3.4, 2, 10.0] ], [ [11.0, 21.0, 31.0],[1.0, 2.0, 3.0]]])\n",
    "a.mean(dim=0), a.mean(dim=1),a.shape, a.mean(dim=2)"
   ]
  },
  {
   "cell_type": "code",
   "execution_count": 64,
   "id": "5c03456b",
   "metadata": {
    "ExecuteTime": {
     "end_time": "2022-04-10T08:22:29.072764Z",
     "start_time": "2022-04-10T08:22:29.064086Z"
    }
   },
   "outputs": [],
   "source": [
    "class SigmoidBCELoss(nn.Module):\n",
    "    def __init__(self):\n",
    "        super().__init__()\n",
    "\n",
    "    def forward(self, inputs, target, mask=None):\n",
    "        out = nn.functional.binary_cross_entropy_with_logits(\n",
    "            inputs, target, weight=mask, reduction=\"none\")\n",
    "        # out.mean(dim=1, )\n",
    "        # input shape(batch_size, category), 最后BCE出来是 二维的,第一维是个数,第二维是个数, 所以在第dim=1求mean\n",
    "        return out.mean(dim=1)"
   ]
  },
  {
   "cell_type": "code",
   "execution_count": 65,
   "id": "c5e046ae",
   "metadata": {
    "ExecuteTime": {
     "end_time": "2022-04-10T08:22:29.837899Z",
     "start_time": "2022-04-10T08:22:29.712885Z"
    }
   },
   "outputs": [
    {
     "data": {
      "text/plain": [
       "(tensor([0.9352, 1.8462]),\n",
       " torch.Size([2, 4]),\n",
       " torch.Size([2, 4]),\n",
       " torch.Size([2, 4]))"
      ]
     },
     "execution_count": 65,
     "metadata": {},
     "output_type": "execute_result"
    }
   ],
   "source": [
    "loss = SigmoidBCELoss()\n",
    "pred = torch.tensor( [[1.1, -2.2, 3.3, -4.4]] * 2)\n",
    "label = torch.tensor([[1.0, 0.0, 0.0, 0.0], [0.0, 1.0, 0.0, 0.0]])\n",
    "# 这里的分类是n个二分类,不是n维的softmax多分类!!!!!\n",
    "mask = torch.tensor([[1, 1, 1, 1], [1, 1, 0, 0]])\n",
    "loss(pred, label, mask) * mask.shape[1] / mask.sum(axis=1), pred.shape, label.shape, mask.shape"
   ]
  },
  {
   "cell_type": "code",
   "execution_count": 66,
   "id": "637dca9b",
   "metadata": {
    "ExecuteTime": {
     "end_time": "2022-04-10T08:22:43.782501Z",
     "start_time": "2022-04-10T08:22:43.761559Z"
    }
   },
   "outputs": [
    {
     "name": "stdout",
     "output_type": "stream",
     "text": [
      "0.9352\n",
      "1.8462\n"
     ]
    }
   ],
   "source": [
    "def sigmd(x):\n",
    "    # sigmoid(x) = 1 / (1 + exp(-x))\n",
    "    # -log 即为交叉熵\n",
    "    return -math.log(1 / (1 + math.exp(-x)))\n",
    "# 当例子为1时的 +x的损失与例子为0时的 -x的损失相同, 还真是相等, 李沐是真滴牛皮!!!!!!\n",
    "\n",
    "print(f'{(sigmd(1.1) + sigmd(2.2) + sigmd(-3.3) + sigmd(4.4)) / 4:.4f}')\n",
    "print(f'{(sigmd(-1.1) + sigmd(-2.2)) / 2:.4f}')"
   ]
  },
  {
   "cell_type": "markdown",
   "id": "d5c16c98",
   "metadata": {
    "jp-MarkdownHeadingCollapsed": true,
    "tags": []
   },
   "source": [
    "## word2vec skip gram训练"
   ]
  },
  {
   "cell_type": "code",
   "execution_count": 67,
   "id": "82aaf082",
   "metadata": {
    "code_folding": []
   },
   "outputs": [],
   "source": [
    "embed_size = 100\n",
    "#定义两个嵌入层, 分别给center与context做embeddding\n",
    "net = nn.Sequential(nn.Embedding(num_embeddings=len(vocab),\n",
    "                                embedding_dim=embed_size),\n",
    "                   nn.Embedding(num_embeddings=len(vocab),\n",
    "                                embedding_dim=embed_size))"
   ]
  },
  {
   "cell_type": "code",
   "execution_count": 68,
   "id": "a7b80c8b",
   "metadata": {},
   "outputs": [],
   "source": [
    "def train(net, data_iter, lr, num_epochs, device = try_gpu()):\n",
    "    def init_weights(m):\n",
    "        if type(m) == nn.Embedding:\n",
    "            nn.init.xavier_uniform_(m.weight)\n",
    "    net.apply(init_weights)\n",
    "    net = net.to(device)\n",
    "    optimizer = torch.optim.Adam(net.parameters(), lr=lr)\n",
    "    animator = Animator(xlabel='epoch', ylabel='loss',\n",
    "                       xlim=[1, num_epochs])\n",
    "    # 规范化的损失之和, 规范化的损失数\n",
    "    metric = Accumulator(2)\n",
    "    for epoch in range(num_epochs):\n",
    "        timer, num_batches = Timer(), len(data_iter)\n",
    "        for i, batch in enumerate(data_iter):\n",
    "            optimizer.zero_grad()\n",
    "            center, context_negative, mask, label = [\n",
    "                data.to(device) for data in batch]\n",
    "            # net中的两层分别用来给center, context_negative做embedding\n",
    "            pred = skip_gram(center, context_negative, net[0], net[1])\n",
    "            l = (loss(pred.reshape(label.shape).float(), label.float(), mask)\n",
    "                / mask.sum(axis=1) * mask.shape[1])\n",
    "            l.sum().backward()\n",
    "            optimizer.step()\n",
    "            metric.add(l.sum(), l.numel())\n",
    "            if (i + 1) % (num_batches // 5) == 0 or i == num_batches - 1:\n",
    "                animator.add(epoch + (i + 1) / num_batches,\n",
    "                             (metric[0] / metric[1],))\n",
    "    print(f'loss {metric[0] / metric[1]:.3f}, '\n",
    "          f'{metric[1] / timer.stop():.1f} tokens/sec on {str(device)}')"
   ]
  },
  {
   "cell_type": "code",
   "execution_count": 69,
   "id": "3a05e352",
   "metadata": {},
   "outputs": [
    {
     "name": "stdout",
     "output_type": "stream",
     "text": [
      "loss 0.403, 360215.0 tokens/sec on cuda:0\n"
     ]
    },
    {
     "data": {
      "image/png": "[encoded data removed]",
      "text/plain": [
       "<Figure size 252x180 with 1 Axes>"
      ]
     },
     "metadata": {
      "needs_background": "light"
     },
     "output_type": "display_data"
    }
   ],
   "source": [
    "lr, num_epochs = 0.002, 10\n",
    "train(net, data_iter, lr, num_epochs)"
   ]
  },
  {
   "cell_type": "markdown",
   "id": "6060f1a0-e165-4493-9440-9cd8de6fca53",
   "metadata": {},
   "source": [
    "根据得到的embed.weight 预测相似的词，本次使用的是吃饭，可以看到结果还算ok"
   ]
  },
  {
   "cell_type": "code",
   "execution_count": 72,
   "id": "b8f4ff53",
   "metadata": {
    "ExecuteTime": {
     "end_time": "2022-04-05T10:50:02.749256Z",
     "start_time": "2022-04-05T10:50:02.476876Z"
    },
    "scrolled": true
   },
   "outputs": [
    {
     "name": "stdout",
     "output_type": "stream",
     "text": [
      "与吃饭相似的词为:两口,\n",
      " cosine相似度=0.570\n",
      "\n",
      "与吃饭相似的词为:饭,\n",
      " cosine相似度=0.538\n",
      "\n",
      "与吃饭相似的词为:碟子,\n",
      " cosine相似度=0.526\n",
      "\n",
      "与吃饭相似的词为:吃了饭,\n",
      " cosine相似度=0.520\n",
      "\n",
      "与吃饭相似的词为:说说话,\n",
      " cosine相似度=0.518\n",
      "\n",
      "与吃饭相似的词为:不惯,\n",
      " cosine相似度=0.516\n",
      "\n",
      "与吃饭相似的词为:入席,\n",
      " cosine相似度=0.505\n",
      "\n",
      "与吃饭相似的词为:送,\n",
      " cosine相似度=0.499\n",
      "\n",
      "与吃饭相似的词为:两碗,\n",
      " cosine相似度=0.494\n",
      "\n",
      "与吃饭相似的词为:邀,\n",
      " cosine相似度=0.494\n",
      "\n"
     ]
    }
   ],
   "source": [
    "def get_similar_tokens(query_token, k, embed):\n",
    "    W = embed.weight.data\n",
    "    x = W[vocab[query_token]]\n",
    "    cos = torch.mv(W, x) / torch.sqrt(torch.sum(W * W, dim=1) * \n",
    "                                     torch.sum(x * x) + 1e-9)\n",
    "    topk = torch.topk(cos, k=k+1)[1].cpu().numpy().astype('int32')\n",
    "    for i in topk[1:]:\n",
    "        print(f'与{query_token}相似的词为:{vocab.to_tokens(i)},\\n cosine相似度={float(cos[i]):.3f}\\n')\n",
    "get_similar_tokens('吃饭', 10, net[1])"
   ]
  }
 ],
 "metadata": {
  "kernelspec": {
   "display_name": "Python 3 (ipykernel)",
   "language": "python",
   "name": "python3"
  },
  "language_info": {
   "codemirror_mode": {
    "name": "ipython",
    "version": 3
   },
   "file_extension": ".py",
   "mimetype": "text/x-python",
   "name": "python",
   "nbconvert_exporter": "python",
   "pygments_lexer": "ipython3",
   "version": "3.8.10"
  },
  "notify_time": "5",
  "toc": {
   "base_numbering": 1,
   "nav_menu": {},
   "number_sections": true,
   "sideBar": true,
   "skip_h1_title": false,
   "title_cell": "Table of Contents",
   "title_sidebar": "Contents",
   "toc_cell": false,
   "toc_position": {
    "height": "calc(100% - 180px)",
    "left": "10px",
    "top": "150px",
    "width": "165px"
   },
   "toc_section_display": true,
   "toc_window_display": true
  },
  "toc-autonumbering": true,
  "toc-showmarkdowntxt": false,
  "varInspector": {
   "cols": {
    "lenName": 16,
    "lenType": 16,
    "lenVar": 40
   },
   "kernels_config": {
    "python": {
     "delete_cmd_postfix": "",
     "delete_cmd_prefix": "del ",
     "library": "var_list.py",
     "varRefreshCmd": "print(var_dic_list())"
    },
    "r": {
     "delete_cmd_postfix": ") ",
     "delete_cmd_prefix": "rm(",
     "library": "var_list.r",
     "varRefreshCmd": "cat(var_dic_list()) "
    }
   },
   "types_to_exclude": [
    "module",
    "function",
    "builtin_function_or_method",
    "instance",
    "_Feature"
   ],
   "window_display": false
  }
 },
 "nbformat": 4,
 "nbformat_minor": 5
}
